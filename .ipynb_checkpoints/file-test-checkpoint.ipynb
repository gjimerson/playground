{
 "cells": [
  {
   "cell_type": "code",
   "execution_count": null,
   "id": "bee38863-8dee-4199-8511-a17f042bc599",
   "metadata": {},
   "outputs": [],
   "source": [
    "import pandas as pd\n",
    "import requests\n",
    "import io\n",
    "    \n",
    "# Downloading the csv file from your GitHub account\n",
    "\n",
    "url = \"REPLACE-THIS-WITH-THE-URL-OF-THE-CSV-FILE\" \n",
    "download = requests.get(url).content\n",
    "\n",
    "\n",
    "df = pd.read_excel('file.xlsx')\n",
    "\n",
    "print (df.head())"
   ]
  }
 ],
 "metadata": {
  "kernelspec": {
   "display_name": "Python 3 (ipykernel)",
   "language": "python",
   "name": "python3"
  },
  "language_info": {
   "codemirror_mode": {
    "name": "ipython",
    "version": 3
   },
   "file_extension": ".py",
   "mimetype": "text/x-python",
   "name": "python",
   "nbconvert_exporter": "python",
   "pygments_lexer": "ipython3",
   "version": "3.11.4"
  },
  "toc-autonumbering": true,
  "toc-showmarkdowntxt": true
 },
 "nbformat": 4,
 "nbformat_minor": 5
}
